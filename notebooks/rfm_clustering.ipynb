{
 "cells": [
  {
   "cell_type": "code",
   "execution_count": 17,
   "id": "0bbed8ce-51f6-4dd7-9503-bbf5e1b64bec",
   "metadata": {},
   "outputs": [],
   "source": [
    "import pandas as pd\n",
    "import numpy as np\n",
    "from sklearn.cluster import KMeans"
   ]
  },
  {
   "cell_type": "code",
   "execution_count": 18,
   "id": "ebabf79e-c01c-4ab9-a92a-017a1f6c1431",
   "metadata": {},
   "outputs": [
    {
     "name": "stdout",
     "output_type": "stream",
     "text": [
      "Raw columns: ['ï»¿Invoice', 'StockCode', 'Description', 'Quantity', 'InvoiceDate', 'Price', 'Customer ID', 'Country']\n",
      "Sample InvoiceDate values: ['01-12-2010 08:26', '01-12-2010 08:26', '01-12-2010 08:26', '01-12-2010 08:26', '01-12-2010 08:26']\n"
     ]
    }
   ],
   "source": [
    "df = pd.read_csv('../data/online_retail_II.csv', encoding='ISO-8859-1')\n",
    "\n",
    "print(\"Raw columns:\", df.columns.tolist())\n",
    "print(\"Sample InvoiceDate values:\", df['InvoiceDate'].head().tolist())"
   ]
  },
  {
   "cell_type": "code",
   "execution_count": 19,
   "id": "53d6b051-6f85-4745-a30f-aa314c843ef3",
   "metadata": {},
   "outputs": [],
   "source": [
    "df = df.dropna(subset=['Customer ID'])\n",
    "df = df[df['Quantity'] > 0]\n",
    "df['InvoiceDate'] = pd.to_datetime(df['InvoiceDate'], format='%d-%m-%Y %H:%M')\n",
    "df['Total_Spending'] = df['Quantity'] * df['Price']"
   ]
  },
  {
   "cell_type": "code",
   "execution_count": 20,
   "id": "73b7e63f-fbbf-4e36-8e22-025a3379c4e9",
   "metadata": {},
   "outputs": [],
   "source": [
    "current_date = df['InvoiceDate'].min() + pd.Timedelta(days=180)\n",
    "tx_6m = df[df['InvoiceDate'] <= current_date].copy()\n",
    "\n",
    "rfm = tx_6m.groupby('Customer ID').agg({\n",
    "    'InvoiceDate': lambda x: (current_date - x.max()).days,  \n",
    "    'ï»¿Invoice': 'nunique', \n",
    "    'Total_Spending': 'sum'  \n",
    "}).rename(columns={\n",
    "    'InvoiceDate': 'Recency',\n",
    "    'ï»¿Invoice': 'Frequency',\n",
    "    'Total_Spending': 'Revenue'\n",
    "})\n",
    "\n",
    "rfm['Revenue_per_Transaction'] = rfm['Revenue'] / rfm['Frequency']"
   ]
  },
  {
   "cell_type": "code",
   "execution_count": 21,
   "id": "d0c92483-efbf-4878-b7d8-0f4d91e6ee8f",
   "metadata": {},
   "outputs": [],
   "source": [
    "next_6m_start = current_date + pd.Timedelta(days=1)\n",
    "next_6m_end = current_date + pd.Timedelta(days=180)\n",
    "tx_next_6m = df[(df['InvoiceDate'] >= next_6m_start) & (df['InvoiceDate'] <= next_6m_end)].copy()\n",
    "m6_revenue = tx_next_6m.groupby('Customer ID')['Total_Spending'].sum().rename('m6_Revenue')\n",
    "\n",
    "tx_merge = rfm.merge(m6_revenue, on='Customer ID', how='left').fillna(0)\n",
    "tx_merge['CustomerID'] = tx_merge.index\n",
    "\n",
    "tx_merge = tx_merge[tx_merge['m6_Revenue'] < tx_merge['m6_Revenue'].quantile(0.99)]"
   ]
  },
  {
   "cell_type": "code",
   "execution_count": 22,
   "id": "a17db6a8-9f19-4148-9cb7-512c4739fec9",
   "metadata": {},
   "outputs": [
    {
     "name": "stdout",
     "output_type": "stream",
     "text": [
      "LTV Cluster Stats:\n",
      "             count         mean          std      min      25%       50%  \\\n",
      "LTVCluster                                                                 \n",
      "0           2151.0   355.167007   406.685378     0.00     0.00   218.270   \n",
      "1            457.0  2501.412845   918.332150  1430.75  1766.04  2191.160   \n",
      "2             72.0  8034.625278  2568.950449  5325.04  6085.27  7097.395   \n",
      "\n",
      "                  75%       max  \n",
      "LTVCluster                       \n",
      "0            607.1800   1422.32  \n",
      "1           3047.6200   5210.14  \n",
      "2           9158.6175  14855.99  \n"
     ]
    }
   ],
   "source": [
    "def order_cluster(cluster_field_name, target_field_name, df, ascending=True):\n",
    "    cluster_means = df.groupby(cluster_field_name)[target_field_name].mean()\n",
    "    cluster_order = cluster_means.sort_values(ascending=ascending).index\n",
    "    mapping = {old: new for new, old in enumerate(cluster_order)}\n",
    "    df[cluster_field_name] = df[cluster_field_name].map(mapping)\n",
    "    return df\n",
    "\n",
    "kmeans = KMeans(n_clusters=3, random_state=42)\n",
    "kmeans.fit(tx_merge[['m6_Revenue']])\n",
    "tx_merge['LTVCluster'] = kmeans.predict(tx_merge[['m6_Revenue']])\n",
    "tx_merge = order_cluster('LTVCluster', 'm6_Revenue', tx_merge, True)\n",
    "\n",
    "print(\"LTV Cluster Stats:\")\n",
    "print(tx_merge.groupby('LTVCluster')['m6_Revenue'].describe())"
   ]
  },
  {
   "cell_type": "code",
   "execution_count": 24,
   "id": "38974b54-0437-4800-88cc-6cd0bef4fe0c",
   "metadata": {},
   "outputs": [],
   "source": [
    "tx_merge.to_csv('../data/tx_merge_clustered.csv', index=False)"
   ]
  }
 ],
 "metadata": {
  "kernelspec": {
   "display_name": "Python 3 (ipykernel)",
   "language": "python",
   "name": "python3"
  },
  "language_info": {
   "codemirror_mode": {
    "name": "ipython",
    "version": 3
   },
   "file_extension": ".py",
   "mimetype": "text/x-python",
   "name": "python",
   "nbconvert_exporter": "python",
   "pygments_lexer": "ipython3",
   "version": "3.13.2"
  }
 },
 "nbformat": 4,
 "nbformat_minor": 5
}
